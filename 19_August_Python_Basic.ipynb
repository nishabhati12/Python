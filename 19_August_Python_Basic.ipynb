{
  "nbformat": 4,
  "nbformat_minor": 0,
  "metadata": {
    "colab": {
      "provenance": [],
      "authorship_tag": "ABX9TyODmh5bPPM0tmRICzljcRPV",
      "include_colab_link": true
    },
    "kernelspec": {
      "name": "python3",
      "display_name": "Python 3"
    },
    "language_info": {
      "name": "python"
    }
  },
  "cells": [
    {
      "cell_type": "markdown",
      "metadata": {
        "id": "view-in-github",
        "colab_type": "text"
      },
      "source": [
        "<a href=\"https://colab.research.google.com/github/nishabhati12/Python/blob/main/19_August_Python_Basic.ipynb\" target=\"_parent\"><img src=\"https://colab.research.google.com/assets/colab-badge.svg\" alt=\"Open In Colab\"/></a>"
      ]
    },
    {
      "cell_type": "markdown",
      "source": [
        "**Python Basic Variables**"
      ],
      "metadata": {
        "id": "NZ6gEAEWeUFL"
      }
    },
    {
      "cell_type": "markdown",
      "source": [
        "1. Declare two variables, `x` and `y`, and assign them integer values. Swap the\n",
        "values of these variables without using any temporary variable."
      ],
      "metadata": {
        "id": "gawUTFSXYHyi"
      }
    },
    {
      "cell_type": "code",
      "source": [
        "a, b = 10, 30\n",
        "print(\"Variable value before swapping. a=\",a ,\"b=\",b)\n",
        "a,b = b,a\n",
        "print(\"Variable value after swapping. a=\",a ,\"b=\",b)"
      ],
      "metadata": {
        "colab": {
          "base_uri": "https://localhost:8080/"
        },
        "id": "GszeRreRYJ_H",
        "outputId": "65429075-64e0-4580-e6eb-7dbf15aeadfb"
      },
      "execution_count": null,
      "outputs": [
        {
          "output_type": "stream",
          "name": "stdout",
          "text": [
            "Variable value before swapping. a= 10 b= 30\n",
            "Variable value after swapping. a= 30 b= 10\n"
          ]
        }
      ]
    },
    {
      "cell_type": "code",
      "source": [],
      "metadata": {
        "id": "5eciGnG9YKPc"
      },
      "execution_count": null,
      "outputs": []
    },
    {
      "cell_type": "markdown",
      "source": [
        "2. Create a program that calculates the area of a rectangle. Take the length and width as inputs from the user and store them in variables. Calculate and display the area."
      ],
      "metadata": {
        "id": "qM_jYG2JYKj1"
      }
    },
    {
      "cell_type": "code",
      "source": [
        "L= float(input(\"Enter the length of the rectangle \"))#Length of the rectangle\n",
        "B= float(input(\"Enter the width of the rectangle \"))#Width of the rectangle\n",
        "Area = L*B # Area of the rectangle\n",
        "print(\"Area of the rectangle\", Area)"
      ],
      "metadata": {
        "colab": {
          "base_uri": "https://localhost:8080/"
        },
        "id": "bzxG5AmSbiO9",
        "outputId": "e36df1c1-ebb5-4f76-b1bd-1140e3b85b06"
      },
      "execution_count": null,
      "outputs": [
        {
          "output_type": "stream",
          "name": "stdout",
          "text": [
            "Enter the length of the rectangle 2.5\n",
            "Enter the width of the rectangle 1.5\n",
            "Area of the rectangle 3.75\n"
          ]
        }
      ]
    },
    {
      "cell_type": "markdown",
      "source": [
        "3. Write a Python program that converts temperatures from Celsius to Fahrenheit. Take the temperature in Celsius as input, store it in a variable, convert it to Fahrenheit, and display the result."
      ],
      "metadata": {
        "id": "EdhJQY1ocoWy"
      }
    },
    {
      "cell_type": "code",
      "source": [
        "\n",
        "celsius_temperature = float(input(\"Enter temperature in Celsius: \")) #Get the temperature in Celsius from the user\n",
        "\n",
        "\n",
        "fahrenheit_temperature = (celsius_temperature * 9/5) + 32 #Convert Celsius to Fahrenheit using the formula: (C * 9/5) + 32\n",
        "\n",
        "\n",
        "print(f\"{celsius_temperature} Celsius is equal to {fahrenheit_temperature:.2f} Fahrenheit\") #Temperature in Fahrenheit"
      ],
      "metadata": {
        "colab": {
          "base_uri": "https://localhost:8080/"
        },
        "id": "qgBFZ1ICbucW",
        "outputId": "520a81da-ac6f-4992-9b89-86fdc6327cb2"
      },
      "execution_count": null,
      "outputs": [
        {
          "output_type": "stream",
          "name": "stdout",
          "text": [
            "Enter temperature in Celsius: 45.5\n",
            "45.5 Celsius is equal to 113.90 Fahrenheit\n"
          ]
        }
      ]
    },
    {
      "cell_type": "markdown",
      "source": [
        "**String Based Question**"
      ],
      "metadata": {
        "id": "nRXTH8ZRefRd"
      }
    },
    {
      "cell_type": "markdown",
      "source": [
        "1. Write a Python program that takes a string as input and prints the length of the string"
      ],
      "metadata": {
        "id": "wr1DvdhGepKF"
      }
    },
    {
      "cell_type": "code",
      "source": [
        "string = input(\"Please enter the string \\n\")\n",
        "# take input in string variable\n",
        "\n",
        "string_length = len(string)\n",
        "#len function is used here to find length\n",
        "\n",
        "print(\"Length of the input string is = \", string_length)\n",
        "#print the value of string length"
      ],
      "metadata": {
        "id": "Y-rynQl4d_cl",
        "colab": {
          "base_uri": "https://localhost:8080/"
        },
        "outputId": "11e8d5ff-cef0-4c5f-cb0d-b032de5827ab"
      },
      "execution_count": 5,
      "outputs": [
        {
          "output_type": "stream",
          "name": "stdout",
          "text": [
            "Please enter the string \n",
            "hiii there, I'm using whats up\n",
            "Length of the input string is =  30\n"
          ]
        }
      ]
    },
    {
      "cell_type": "markdown",
      "source": [
        "Find string length without using len function"
      ],
      "metadata": {
        "id": "VmtWgt-Xfx2C"
      }
    },
    {
      "cell_type": "code",
      "source": [
        "string = input(\"Please enter the string \\n\")\n",
        "# take input in string variable\n",
        "count=0\n",
        "for i in string:\n",
        "  count=count+1\n",
        "  # using for loop we find length of string\n",
        "print(\"Length of the input string is = \", count)"
      ],
      "metadata": {
        "colab": {
          "base_uri": "https://localhost:8080/"
        },
        "id": "c6Vp4-H0evCX",
        "outputId": "0697670f-d3a5-4331-e9cb-876211aa7410"
      },
      "execution_count": 4,
      "outputs": [
        {
          "output_type": "stream",
          "name": "stdout",
          "text": [
            "Please enter the string \n",
            "Hey there\n",
            "Length of the input string is =  9\n"
          ]
        }
      ]
    },
    {
      "cell_type": "markdown",
      "source": [
        "2. Create a program that takes a sentence from the user and counts the number of vowels (a, e, i, o, u) in the string.\n"
      ],
      "metadata": {
        "id": "184WE4Dzg4oC"
      }
    },
    {
      "cell_type": "code",
      "source": [
        "sentence= input(\"Please enter the string \\n\")\n",
        "# take input in string variable\n",
        "count_vowel=0\n",
        "for i in sentence:\n",
        "  lowercase_string = i.lower()\n",
        "#print(lowercase_string)\n",
        "  if lowercase_string in \"aeiou\":\n",
        "    count_vowel+=1\n",
        "\n",
        "# print number of vowels\n",
        "print(\"Number of vowel = \",count_vowel)"
      ],
      "metadata": {
        "colab": {
          "base_uri": "https://localhost:8080/"
        },
        "id": "GdstmhkKgI3Z",
        "outputId": "80ba2e9b-e198-4759-edb3-72c141b36a7a"
      },
      "execution_count": 10,
      "outputs": [
        {
          "output_type": "stream",
          "name": "stdout",
          "text": [
            "Please enter the string \n",
            "hIII THIS id eee qq a e i o u \n",
            "Number of vowel =  13\n"
          ]
        }
      ]
    },
    {
      "cell_type": "markdown",
      "source": [
        "3. Given a string, reverse the order of characters using string slicing and print the reversed string.\n"
      ],
      "metadata": {
        "id": "GqJ2TGifls4R"
      }
    },
    {
      "cell_type": "code",
      "source": [
        "input_string = input(\"Enter any string which you want to reverse\")\n",
        "#input string\n",
        "reversed_string = input_string[::-1]\n",
        "\n",
        "#It shows reversed string\n",
        "print(\"Reversed string is \", reversed_string)"
      ],
      "metadata": {
        "colab": {
          "base_uri": "https://localhost:8080/"
        },
        "id": "jgA6aOVzh6sI",
        "outputId": "b32a0317-e892-4aa3-f9a9-e78f2875637d"
      },
      "execution_count": 11,
      "outputs": [
        {
          "output_type": "stream",
          "name": "stdout",
          "text": [
            "Enter any string which you want to reverseHey there, I am using whatsapp\n",
            "Reversed string is  ppastahw gnisu ma I ,ereht yeH\n"
          ]
        }
      ]
    },
    {
      "cell_type": "markdown",
      "source": [
        "4. Write a program that takes a string as input and checks if it is a palindrome (reads the same forwards and backwards)."
      ],
      "metadata": {
        "id": "1TeseBiznjjT"
      }
    },
    {
      "cell_type": "code",
      "source": [
        "inp_string = input(\"Enter any string \")\n",
        "#input string\n",
        "\n",
        "rev_string = inp_string[::-1]\n",
        "#Reverse string\n",
        "\n",
        "# if input string is similar to reverse string\n",
        "if inp_string == rev_string:\n",
        "  print(\"This string is palindrome\")\n",
        "else:\n",
        "  print(\"string is not palindrome\")"
      ],
      "metadata": {
        "colab": {
          "base_uri": "https://localhost:8080/"
        },
        "id": "IG6G3scqm4lV",
        "outputId": "0db09b14-2422-4fe0-9ee6-483ebae1c334"
      },
      "execution_count": 12,
      "outputs": [
        {
          "output_type": "stream",
          "name": "stdout",
          "text": [
            "Enter any string saras\n",
            "This string is palindrome\n"
          ]
        }
      ]
    },
    {
      "cell_type": "markdown",
      "source": [
        "5. Create a program that takes a string as input and removes all the spaces from it. Print the modified string without spaces."
      ],
      "metadata": {
        "id": "xGI8AYvSoiZa"
      }
    },
    {
      "cell_type": "code",
      "source": [
        "#input string\n",
        "inp_str = input(\"Enter the string\")\n",
        "#Initialize an empty string to store the modified string without spaces\n",
        "modified_string = \"\"\n",
        "#Iterate through each character in the input string\n",
        "for i in inp_str:\n",
        "#If not a space, append the character to the modified string\n",
        "  if i != \" \":\n",
        "    modified_string+=i\n",
        "# Print the modified string without spaces\n",
        "print(\"Modified string is \", modified_string)"
      ],
      "metadata": {
        "colab": {
          "base_uri": "https://localhost:8080/"
        },
        "id": "W9egxt5qoaPJ",
        "outputId": "a81b738c-b62b-4acd-ae7a-239301bd70aa"
      },
      "execution_count": 13,
      "outputs": [
        {
          "output_type": "stream",
          "name": "stdout",
          "text": [
            "Enter the stringHii there ola then \n",
            "Modified string is  Hiithereolathen\n"
          ]
        }
      ]
    },
    {
      "cell_type": "code",
      "source": [],
      "metadata": {
        "id": "GZqhGi-5ryru"
      },
      "execution_count": null,
      "outputs": []
    }
  ]
}